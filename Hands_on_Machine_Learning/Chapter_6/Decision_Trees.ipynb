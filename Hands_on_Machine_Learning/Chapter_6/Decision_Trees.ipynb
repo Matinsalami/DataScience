{
  "nbformat": 4,
  "nbformat_minor": 0,
  "metadata": {
    "colab": {
      "provenance": [],
      "authorship_tag": "ABX9TyNx9J/XFVwUs5FGWhis8q5k",
      "include_colab_link": true
    },
    "kernelspec": {
      "name": "python3",
      "display_name": "Python 3"
    },
    "language_info": {
      "name": "python"
    }
  },
  "cells": [
    {
      "cell_type": "markdown",
      "metadata": {
        "id": "view-in-github",
        "colab_type": "text"
      },
      "source": [
        "<a href=\"https://colab.research.google.com/github/Matinsalami/DataScience/blob/main/Hands_on_Machine_Learning/Chapter_6/Decision_Trees.ipynb\" target=\"_parent\"><img src=\"https://colab.research.google.com/assets/colab-badge.svg\" alt=\"Open In Colab\"/></a>"
      ]
    },
    {
      "cell_type": "markdown",
      "source": [
        "Like SVMs, Decision trees are versatile tools used for both Regression and Classification. They are very powerful algorithms which are capable of fitting complex datasets.\n",
        "\n",
        "Note: Decision Trees are fundamental components of Random Forests, Which are again among the most powerful ML algorithms today.\n",
        "\n",
        "We split this part into different parts. Train, visualize and predictions with Dicision Trees are differtent subjects discussed in this chapter. Finally we will discuss some of the limitations of this algorithm."
      ],
      "metadata": {
        "id": "5BK-0eoQ_svI"
      }
    },
    {
      "cell_type": "markdown",
      "source": [
        "# Training and Visualizing a Dicision Tree"
      ],
      "metadata": {
        "id": "WRfh6lJaA6q7"
      }
    },
    {
      "cell_type": "markdown",
      "source": [
        "We build a Decision Tree and take a look at how it makes predictions."
      ],
      "metadata": {
        "id": "ZhC-dnTwBA8-"
      }
    },
    {
      "cell_type": "code",
      "execution_count": 10,
      "metadata": {
        "colab": {
          "base_uri": "https://localhost:8080/",
          "height": 80
        },
        "id": "bx1_0VCe_V9u",
        "outputId": "664a1d35-f725-465b-8caa-5844f711274f"
      },
      "outputs": [
        {
          "output_type": "execute_result",
          "data": {
            "text/plain": [
              "DecisionTreeClassifier(max_depth=2)"
            ],
            "text/html": [
              "<style>#sk-container-id-3 {\n",
              "  /* Definition of color scheme common for light and dark mode */\n",
              "  --sklearn-color-text: #000;\n",
              "  --sklearn-color-text-muted: #666;\n",
              "  --sklearn-color-line: gray;\n",
              "  /* Definition of color scheme for unfitted estimators */\n",
              "  --sklearn-color-unfitted-level-0: #fff5e6;\n",
              "  --sklearn-color-unfitted-level-1: #f6e4d2;\n",
              "  --sklearn-color-unfitted-level-2: #ffe0b3;\n",
              "  --sklearn-color-unfitted-level-3: chocolate;\n",
              "  /* Definition of color scheme for fitted estimators */\n",
              "  --sklearn-color-fitted-level-0: #f0f8ff;\n",
              "  --sklearn-color-fitted-level-1: #d4ebff;\n",
              "  --sklearn-color-fitted-level-2: #b3dbfd;\n",
              "  --sklearn-color-fitted-level-3: cornflowerblue;\n",
              "\n",
              "  /* Specific color for light theme */\n",
              "  --sklearn-color-text-on-default-background: var(--sg-text-color, var(--theme-code-foreground, var(--jp-content-font-color1, black)));\n",
              "  --sklearn-color-background: var(--sg-background-color, var(--theme-background, var(--jp-layout-color0, white)));\n",
              "  --sklearn-color-border-box: var(--sg-text-color, var(--theme-code-foreground, var(--jp-content-font-color1, black)));\n",
              "  --sklearn-color-icon: #696969;\n",
              "\n",
              "  @media (prefers-color-scheme: dark) {\n",
              "    /* Redefinition of color scheme for dark theme */\n",
              "    --sklearn-color-text-on-default-background: var(--sg-text-color, var(--theme-code-foreground, var(--jp-content-font-color1, white)));\n",
              "    --sklearn-color-background: var(--sg-background-color, var(--theme-background, var(--jp-layout-color0, #111)));\n",
              "    --sklearn-color-border-box: var(--sg-text-color, var(--theme-code-foreground, var(--jp-content-font-color1, white)));\n",
              "    --sklearn-color-icon: #878787;\n",
              "  }\n",
              "}\n",
              "\n",
              "#sk-container-id-3 {\n",
              "  color: var(--sklearn-color-text);\n",
              "}\n",
              "\n",
              "#sk-container-id-3 pre {\n",
              "  padding: 0;\n",
              "}\n",
              "\n",
              "#sk-container-id-3 input.sk-hidden--visually {\n",
              "  border: 0;\n",
              "  clip: rect(1px 1px 1px 1px);\n",
              "  clip: rect(1px, 1px, 1px, 1px);\n",
              "  height: 1px;\n",
              "  margin: -1px;\n",
              "  overflow: hidden;\n",
              "  padding: 0;\n",
              "  position: absolute;\n",
              "  width: 1px;\n",
              "}\n",
              "\n",
              "#sk-container-id-3 div.sk-dashed-wrapped {\n",
              "  border: 1px dashed var(--sklearn-color-line);\n",
              "  margin: 0 0.4em 0.5em 0.4em;\n",
              "  box-sizing: border-box;\n",
              "  padding-bottom: 0.4em;\n",
              "  background-color: var(--sklearn-color-background);\n",
              "}\n",
              "\n",
              "#sk-container-id-3 div.sk-container {\n",
              "  /* jupyter's `normalize.less` sets `[hidden] { display: none; }`\n",
              "     but bootstrap.min.css set `[hidden] { display: none !important; }`\n",
              "     so we also need the `!important` here to be able to override the\n",
              "     default hidden behavior on the sphinx rendered scikit-learn.org.\n",
              "     See: https://github.com/scikit-learn/scikit-learn/issues/21755 */\n",
              "  display: inline-block !important;\n",
              "  position: relative;\n",
              "}\n",
              "\n",
              "#sk-container-id-3 div.sk-text-repr-fallback {\n",
              "  display: none;\n",
              "}\n",
              "\n",
              "div.sk-parallel-item,\n",
              "div.sk-serial,\n",
              "div.sk-item {\n",
              "  /* draw centered vertical line to link estimators */\n",
              "  background-image: linear-gradient(var(--sklearn-color-text-on-default-background), var(--sklearn-color-text-on-default-background));\n",
              "  background-size: 2px 100%;\n",
              "  background-repeat: no-repeat;\n",
              "  background-position: center center;\n",
              "}\n",
              "\n",
              "/* Parallel-specific style estimator block */\n",
              "\n",
              "#sk-container-id-3 div.sk-parallel-item::after {\n",
              "  content: \"\";\n",
              "  width: 100%;\n",
              "  border-bottom: 2px solid var(--sklearn-color-text-on-default-background);\n",
              "  flex-grow: 1;\n",
              "}\n",
              "\n",
              "#sk-container-id-3 div.sk-parallel {\n",
              "  display: flex;\n",
              "  align-items: stretch;\n",
              "  justify-content: center;\n",
              "  background-color: var(--sklearn-color-background);\n",
              "  position: relative;\n",
              "}\n",
              "\n",
              "#sk-container-id-3 div.sk-parallel-item {\n",
              "  display: flex;\n",
              "  flex-direction: column;\n",
              "}\n",
              "\n",
              "#sk-container-id-3 div.sk-parallel-item:first-child::after {\n",
              "  align-self: flex-end;\n",
              "  width: 50%;\n",
              "}\n",
              "\n",
              "#sk-container-id-3 div.sk-parallel-item:last-child::after {\n",
              "  align-self: flex-start;\n",
              "  width: 50%;\n",
              "}\n",
              "\n",
              "#sk-container-id-3 div.sk-parallel-item:only-child::after {\n",
              "  width: 0;\n",
              "}\n",
              "\n",
              "/* Serial-specific style estimator block */\n",
              "\n",
              "#sk-container-id-3 div.sk-serial {\n",
              "  display: flex;\n",
              "  flex-direction: column;\n",
              "  align-items: center;\n",
              "  background-color: var(--sklearn-color-background);\n",
              "  padding-right: 1em;\n",
              "  padding-left: 1em;\n",
              "}\n",
              "\n",
              "\n",
              "/* Toggleable style: style used for estimator/Pipeline/ColumnTransformer box that is\n",
              "clickable and can be expanded/collapsed.\n",
              "- Pipeline and ColumnTransformer use this feature and define the default style\n",
              "- Estimators will overwrite some part of the style using the `sk-estimator` class\n",
              "*/\n",
              "\n",
              "/* Pipeline and ColumnTransformer style (default) */\n",
              "\n",
              "#sk-container-id-3 div.sk-toggleable {\n",
              "  /* Default theme specific background. It is overwritten whether we have a\n",
              "  specific estimator or a Pipeline/ColumnTransformer */\n",
              "  background-color: var(--sklearn-color-background);\n",
              "}\n",
              "\n",
              "/* Toggleable label */\n",
              "#sk-container-id-3 label.sk-toggleable__label {\n",
              "  cursor: pointer;\n",
              "  display: flex;\n",
              "  width: 100%;\n",
              "  margin-bottom: 0;\n",
              "  padding: 0.5em;\n",
              "  box-sizing: border-box;\n",
              "  text-align: center;\n",
              "  align-items: start;\n",
              "  justify-content: space-between;\n",
              "  gap: 0.5em;\n",
              "}\n",
              "\n",
              "#sk-container-id-3 label.sk-toggleable__label .caption {\n",
              "  font-size: 0.6rem;\n",
              "  font-weight: lighter;\n",
              "  color: var(--sklearn-color-text-muted);\n",
              "}\n",
              "\n",
              "#sk-container-id-3 label.sk-toggleable__label-arrow:before {\n",
              "  /* Arrow on the left of the label */\n",
              "  content: \"▸\";\n",
              "  float: left;\n",
              "  margin-right: 0.25em;\n",
              "  color: var(--sklearn-color-icon);\n",
              "}\n",
              "\n",
              "#sk-container-id-3 label.sk-toggleable__label-arrow:hover:before {\n",
              "  color: var(--sklearn-color-text);\n",
              "}\n",
              "\n",
              "/* Toggleable content - dropdown */\n",
              "\n",
              "#sk-container-id-3 div.sk-toggleable__content {\n",
              "  max-height: 0;\n",
              "  max-width: 0;\n",
              "  overflow: hidden;\n",
              "  text-align: left;\n",
              "  /* unfitted */\n",
              "  background-color: var(--sklearn-color-unfitted-level-0);\n",
              "}\n",
              "\n",
              "#sk-container-id-3 div.sk-toggleable__content.fitted {\n",
              "  /* fitted */\n",
              "  background-color: var(--sklearn-color-fitted-level-0);\n",
              "}\n",
              "\n",
              "#sk-container-id-3 div.sk-toggleable__content pre {\n",
              "  margin: 0.2em;\n",
              "  border-radius: 0.25em;\n",
              "  color: var(--sklearn-color-text);\n",
              "  /* unfitted */\n",
              "  background-color: var(--sklearn-color-unfitted-level-0);\n",
              "}\n",
              "\n",
              "#sk-container-id-3 div.sk-toggleable__content.fitted pre {\n",
              "  /* unfitted */\n",
              "  background-color: var(--sklearn-color-fitted-level-0);\n",
              "}\n",
              "\n",
              "#sk-container-id-3 input.sk-toggleable__control:checked~div.sk-toggleable__content {\n",
              "  /* Expand drop-down */\n",
              "  max-height: 200px;\n",
              "  max-width: 100%;\n",
              "  overflow: auto;\n",
              "}\n",
              "\n",
              "#sk-container-id-3 input.sk-toggleable__control:checked~label.sk-toggleable__label-arrow:before {\n",
              "  content: \"▾\";\n",
              "}\n",
              "\n",
              "/* Pipeline/ColumnTransformer-specific style */\n",
              "\n",
              "#sk-container-id-3 div.sk-label input.sk-toggleable__control:checked~label.sk-toggleable__label {\n",
              "  color: var(--sklearn-color-text);\n",
              "  background-color: var(--sklearn-color-unfitted-level-2);\n",
              "}\n",
              "\n",
              "#sk-container-id-3 div.sk-label.fitted input.sk-toggleable__control:checked~label.sk-toggleable__label {\n",
              "  background-color: var(--sklearn-color-fitted-level-2);\n",
              "}\n",
              "\n",
              "/* Estimator-specific style */\n",
              "\n",
              "/* Colorize estimator box */\n",
              "#sk-container-id-3 div.sk-estimator input.sk-toggleable__control:checked~label.sk-toggleable__label {\n",
              "  /* unfitted */\n",
              "  background-color: var(--sklearn-color-unfitted-level-2);\n",
              "}\n",
              "\n",
              "#sk-container-id-3 div.sk-estimator.fitted input.sk-toggleable__control:checked~label.sk-toggleable__label {\n",
              "  /* fitted */\n",
              "  background-color: var(--sklearn-color-fitted-level-2);\n",
              "}\n",
              "\n",
              "#sk-container-id-3 div.sk-label label.sk-toggleable__label,\n",
              "#sk-container-id-3 div.sk-label label {\n",
              "  /* The background is the default theme color */\n",
              "  color: var(--sklearn-color-text-on-default-background);\n",
              "}\n",
              "\n",
              "/* On hover, darken the color of the background */\n",
              "#sk-container-id-3 div.sk-label:hover label.sk-toggleable__label {\n",
              "  color: var(--sklearn-color-text);\n",
              "  background-color: var(--sklearn-color-unfitted-level-2);\n",
              "}\n",
              "\n",
              "/* Label box, darken color on hover, fitted */\n",
              "#sk-container-id-3 div.sk-label.fitted:hover label.sk-toggleable__label.fitted {\n",
              "  color: var(--sklearn-color-text);\n",
              "  background-color: var(--sklearn-color-fitted-level-2);\n",
              "}\n",
              "\n",
              "/* Estimator label */\n",
              "\n",
              "#sk-container-id-3 div.sk-label label {\n",
              "  font-family: monospace;\n",
              "  font-weight: bold;\n",
              "  display: inline-block;\n",
              "  line-height: 1.2em;\n",
              "}\n",
              "\n",
              "#sk-container-id-3 div.sk-label-container {\n",
              "  text-align: center;\n",
              "}\n",
              "\n",
              "/* Estimator-specific */\n",
              "#sk-container-id-3 div.sk-estimator {\n",
              "  font-family: monospace;\n",
              "  border: 1px dotted var(--sklearn-color-border-box);\n",
              "  border-radius: 0.25em;\n",
              "  box-sizing: border-box;\n",
              "  margin-bottom: 0.5em;\n",
              "  /* unfitted */\n",
              "  background-color: var(--sklearn-color-unfitted-level-0);\n",
              "}\n",
              "\n",
              "#sk-container-id-3 div.sk-estimator.fitted {\n",
              "  /* fitted */\n",
              "  background-color: var(--sklearn-color-fitted-level-0);\n",
              "}\n",
              "\n",
              "/* on hover */\n",
              "#sk-container-id-3 div.sk-estimator:hover {\n",
              "  /* unfitted */\n",
              "  background-color: var(--sklearn-color-unfitted-level-2);\n",
              "}\n",
              "\n",
              "#sk-container-id-3 div.sk-estimator.fitted:hover {\n",
              "  /* fitted */\n",
              "  background-color: var(--sklearn-color-fitted-level-2);\n",
              "}\n",
              "\n",
              "/* Specification for estimator info (e.g. \"i\" and \"?\") */\n",
              "\n",
              "/* Common style for \"i\" and \"?\" */\n",
              "\n",
              ".sk-estimator-doc-link,\n",
              "a:link.sk-estimator-doc-link,\n",
              "a:visited.sk-estimator-doc-link {\n",
              "  float: right;\n",
              "  font-size: smaller;\n",
              "  line-height: 1em;\n",
              "  font-family: monospace;\n",
              "  background-color: var(--sklearn-color-background);\n",
              "  border-radius: 1em;\n",
              "  height: 1em;\n",
              "  width: 1em;\n",
              "  text-decoration: none !important;\n",
              "  margin-left: 0.5em;\n",
              "  text-align: center;\n",
              "  /* unfitted */\n",
              "  border: var(--sklearn-color-unfitted-level-1) 1pt solid;\n",
              "  color: var(--sklearn-color-unfitted-level-1);\n",
              "}\n",
              "\n",
              ".sk-estimator-doc-link.fitted,\n",
              "a:link.sk-estimator-doc-link.fitted,\n",
              "a:visited.sk-estimator-doc-link.fitted {\n",
              "  /* fitted */\n",
              "  border: var(--sklearn-color-fitted-level-1) 1pt solid;\n",
              "  color: var(--sklearn-color-fitted-level-1);\n",
              "}\n",
              "\n",
              "/* On hover */\n",
              "div.sk-estimator:hover .sk-estimator-doc-link:hover,\n",
              ".sk-estimator-doc-link:hover,\n",
              "div.sk-label-container:hover .sk-estimator-doc-link:hover,\n",
              ".sk-estimator-doc-link:hover {\n",
              "  /* unfitted */\n",
              "  background-color: var(--sklearn-color-unfitted-level-3);\n",
              "  color: var(--sklearn-color-background);\n",
              "  text-decoration: none;\n",
              "}\n",
              "\n",
              "div.sk-estimator.fitted:hover .sk-estimator-doc-link.fitted:hover,\n",
              ".sk-estimator-doc-link.fitted:hover,\n",
              "div.sk-label-container:hover .sk-estimator-doc-link.fitted:hover,\n",
              ".sk-estimator-doc-link.fitted:hover {\n",
              "  /* fitted */\n",
              "  background-color: var(--sklearn-color-fitted-level-3);\n",
              "  color: var(--sklearn-color-background);\n",
              "  text-decoration: none;\n",
              "}\n",
              "\n",
              "/* Span, style for the box shown on hovering the info icon */\n",
              ".sk-estimator-doc-link span {\n",
              "  display: none;\n",
              "  z-index: 9999;\n",
              "  position: relative;\n",
              "  font-weight: normal;\n",
              "  right: .2ex;\n",
              "  padding: .5ex;\n",
              "  margin: .5ex;\n",
              "  width: min-content;\n",
              "  min-width: 20ex;\n",
              "  max-width: 50ex;\n",
              "  color: var(--sklearn-color-text);\n",
              "  box-shadow: 2pt 2pt 4pt #999;\n",
              "  /* unfitted */\n",
              "  background: var(--sklearn-color-unfitted-level-0);\n",
              "  border: .5pt solid var(--sklearn-color-unfitted-level-3);\n",
              "}\n",
              "\n",
              ".sk-estimator-doc-link.fitted span {\n",
              "  /* fitted */\n",
              "  background: var(--sklearn-color-fitted-level-0);\n",
              "  border: var(--sklearn-color-fitted-level-3);\n",
              "}\n",
              "\n",
              ".sk-estimator-doc-link:hover span {\n",
              "  display: block;\n",
              "}\n",
              "\n",
              "/* \"?\"-specific style due to the `<a>` HTML tag */\n",
              "\n",
              "#sk-container-id-3 a.estimator_doc_link {\n",
              "  float: right;\n",
              "  font-size: 1rem;\n",
              "  line-height: 1em;\n",
              "  font-family: monospace;\n",
              "  background-color: var(--sklearn-color-background);\n",
              "  border-radius: 1rem;\n",
              "  height: 1rem;\n",
              "  width: 1rem;\n",
              "  text-decoration: none;\n",
              "  /* unfitted */\n",
              "  color: var(--sklearn-color-unfitted-level-1);\n",
              "  border: var(--sklearn-color-unfitted-level-1) 1pt solid;\n",
              "}\n",
              "\n",
              "#sk-container-id-3 a.estimator_doc_link.fitted {\n",
              "  /* fitted */\n",
              "  border: var(--sklearn-color-fitted-level-1) 1pt solid;\n",
              "  color: var(--sklearn-color-fitted-level-1);\n",
              "}\n",
              "\n",
              "/* On hover */\n",
              "#sk-container-id-3 a.estimator_doc_link:hover {\n",
              "  /* unfitted */\n",
              "  background-color: var(--sklearn-color-unfitted-level-3);\n",
              "  color: var(--sklearn-color-background);\n",
              "  text-decoration: none;\n",
              "}\n",
              "\n",
              "#sk-container-id-3 a.estimator_doc_link.fitted:hover {\n",
              "  /* fitted */\n",
              "  background-color: var(--sklearn-color-fitted-level-3);\n",
              "}\n",
              "</style><div id=\"sk-container-id-3\" class=\"sk-top-container\"><div class=\"sk-text-repr-fallback\"><pre>DecisionTreeClassifier(max_depth=2)</pre><b>In a Jupyter environment, please rerun this cell to show the HTML representation or trust the notebook. <br />On GitHub, the HTML representation is unable to render, please try loading this page with nbviewer.org.</b></div><div class=\"sk-container\" hidden><div class=\"sk-item\"><div class=\"sk-estimator fitted sk-toggleable\"><input class=\"sk-toggleable__control sk-hidden--visually\" id=\"sk-estimator-id-3\" type=\"checkbox\" checked><label for=\"sk-estimator-id-3\" class=\"sk-toggleable__label fitted sk-toggleable__label-arrow\"><div><div>DecisionTreeClassifier</div></div><div><a class=\"sk-estimator-doc-link fitted\" rel=\"noreferrer\" target=\"_blank\" href=\"https://scikit-learn.org/1.6/modules/generated/sklearn.tree.DecisionTreeClassifier.html\">?<span>Documentation for DecisionTreeClassifier</span></a><span class=\"sk-estimator-doc-link fitted\">i<span>Fitted</span></span></div></label><div class=\"sk-toggleable__content fitted\"><pre>DecisionTreeClassifier(max_depth=2)</pre></div> </div></div></div></div>"
            ]
          },
          "metadata": {},
          "execution_count": 10
        }
      ],
      "source": [
        "# Again we use iris dataset\n",
        "from sklearn.datasets import load_iris\n",
        "from sklearn.tree import DecisionTreeClassifier\n",
        "\n",
        "iris = load_iris()\n",
        "X = iris.data[:,2:]\n",
        "y = iris.target\n",
        "\n",
        "tree_clf = DecisionTreeClassifier(max_depth=2)\n",
        "tree_clf.fit(X,y)"
      ]
    },
    {
      "cell_type": "markdown",
      "source": [
        "To visualize the trained Decsion Tree we use `export_graphviz()` method to output a graph definition file called *iris_tree.dot*."
      ],
      "metadata": {
        "id": "7u14MTC4D8cY"
      }
    },
    {
      "cell_type": "code",
      "source": [
        "from sklearn.tree import export_graphviz\n",
        "\n",
        "export_graphviz(\n",
        "    tree_clf,\n",
        "    out_file=\"iris_tree.dot\",\n",
        "    feature_names=iris.feature_names[2:],\n",
        "    class_names=iris.target_names,\n",
        "    rounded=True,\n",
        "    filled=True\n",
        ")"
      ],
      "metadata": {
        "id": "DgJw9VGsDr6j"
      },
      "execution_count": 11,
      "outputs": []
    },
    {
      "cell_type": "markdown",
      "source": [
        "Then I convert the .dot file into a png file using graphviz package. This is how the first Decision Tree looks like.\n",
        "\n",
        "![iris_tree.png](data:image/png;base64,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)"
      ],
      "metadata": {
        "id": "huLID-MqFw-L"
      }
    },
    {
      "cell_type": "markdown",
      "source": [
        "# Making Predictions"
      ],
      "metadata": {
        "id": "A65bz-S1GUHz"
      }
    },
    {
      "cell_type": "markdown",
      "source": [
        "Making predictions by looking at the above picture is super easy. Imagine we have an iris flower and want to know its type. First the algorithms ask the first senctence starting from the root node. The algorithms will not stop asking questions until it raches a **leaf node** where there is no question left to be asked. Once reached a leaf node, the class feature of each leaf node indicate the type of iris flower which our desired flower belongs to.\n",
        "\n",
        "Note: Decision Trees need very small data preparation. There is no need for feature scaling or centring at all.\n",
        "\n",
        "The `samples` attribute indicates how many samples instances it applies to. For example, 100 samples have petal length bigger than 2.45 and 50 samples have petal length smaller than 2.45.\n",
        "\n",
        "A node's `value` attribute tells how many traininf instances of each class this node applies to: for example the bottom-right node applies to 0 Iris-Setosa, 1 Iris-Versicolor, 45 Iris-Virginica.\n",
        "\n",
        "Finally a node's `gini` attribute computes its impurity. A node is pure (`gini=0`) if all the training instances it applies to belonges to the same class. Gini impurity is calculated like this:\n",
        "\n",
        "$G_i = 1 - \\sum_{k=1}^{n} p_{i,k}^2$\n",
        "\n",
        "$ p_{i,k}$ is the ratio of class k instances among the training instances in the $i^{th}$ node.\n",
        "\n",
        "Note: Scikit-Learn uses CART algorithm, which produces only *binary trees*. However with other algorithms such as ID3 we can produce Decision trees with more than 2 children.  "
      ],
      "metadata": {
        "id": "8nIkXcxxGWu5"
      }
    },
    {
      "cell_type": "markdown",
      "source": [
        "![image.png](data:image/png;base64,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)"
      ],
      "metadata": {
        "id": "i47UUaFsNam8"
      }
    },
    {
      "cell_type": "markdown",
      "source": [
        "The figure shows the Decision Tree boundaries of the model.\n",
        "\n",
        "The thick vertical line represents the decision boundary of the root node (depth = 0): petal length = 2.45 cm. Since the left area is pure, it cannot be split any further. However, the right area is impure. So the depth-1 right node splits it at petal width = 1.75 cm. `max_depth` was set to 2, so the Decision Tree stops there. However if we set up the `max_depth` to 3, then the two depth-2 nodes would each add another decision boundary which are represented by dotted lines.  "
      ],
      "metadata": {
        "id": "vNlrU9xRNdmd"
      }
    },
    {
      "cell_type": "markdown",
      "source": [
        "# Estimating Class probabilities"
      ],
      "metadata": {
        "id": "xzJcJu7YaQF5"
      }
    },
    {
      "cell_type": "markdown",
      "source": [
        "A Decision tree can also compute the probability that a particular instance fall into a specific class. First the instance traverse the tree and fall into a leaf node. Then by deviding the instances of that specific flower by the number of samples in that leaf we get the probabilities. And of course if we want to predict the class, it should output the class with the highest probability.  "
      ],
      "metadata": {
        "id": "vA_lUaMedagS"
      }
    },
    {
      "cell_type": "code",
      "source": [
        "tree_clf.predict_proba([[5, 1.5]])"
      ],
      "metadata": {
        "colab": {
          "base_uri": "https://localhost:8080/"
        },
        "id": "7Hr3LWvIE04W",
        "outputId": "45968d7c-52e5-4e81-d23e-99f806fd891d"
      },
      "execution_count": 13,
      "outputs": [
        {
          "output_type": "execute_result",
          "data": {
            "text/plain": [
              "array([[0.        , 0.90740741, 0.09259259]])"
            ]
          },
          "metadata": {},
          "execution_count": 13
        }
      ]
    },
    {
      "cell_type": "code",
      "source": [
        "tree_clf.predict([[5,1.5]])"
      ],
      "metadata": {
        "colab": {
          "base_uri": "https://localhost:8080/"
        },
        "id": "WEGxmUpFeOm0",
        "outputId": "dc1b57de-8ac6-4743-83a8-49868e421360"
      },
      "execution_count": 14,
      "outputs": [
        {
          "output_type": "execute_result",
          "data": {
            "text/plain": [
              "array([1])"
            ]
          },
          "metadata": {},
          "execution_count": 14
        }
      ]
    },
    {
      "cell_type": "code",
      "source": [
        "iris.target_names"
      ],
      "metadata": {
        "colab": {
          "base_uri": "https://localhost:8080/"
        },
        "id": "u4v6T4Y5eWu-",
        "outputId": "7ca83976-f4ad-4443-e510-888e40fff547"
      },
      "execution_count": 16,
      "outputs": [
        {
          "output_type": "execute_result",
          "data": {
            "text/plain": [
              "array(['setosa', 'versicolor', 'virginica'], dtype='<U10')"
            ]
          },
          "metadata": {},
          "execution_count": 16
        }
      ]
    },
    {
      "cell_type": "markdown",
      "source": [
        "# The CART Training algorithm"
      ],
      "metadata": {
        "id": "8YhM7S45eiG1"
      }
    },
    {
      "cell_type": "markdown",
      "source": [
        "Scikit-Learn uses the *Classification and Regression Tree* (CART) algorithm to train Decision Trees(also called \"growing\" trees). The idea is to split the training set into two subsets using a single feature of $k$ and a threshold of $tk$. The way to find this pair is to search for a pair of these two values that produces the purest subsets. The cost function used to minimize is:\n",
        "\n",
        "$\n",
        "J(k, t_k) = \\frac{m_{\\text{left}}}{m} G_{\\text{left}} + \\frac{m_{\\text{right}}}{m} G_{\\text{right}}$\n",
        "$\n",
        "\\text{where} \\quad\n",
        "\\left\\{\n",
        "\\begin{array}{ll}\n",
        "G_{\\text{left/right}} & \\text{measures the impurity of the left/right subset,} \\\\\n",
        "m_{\\text{left/right}} & \\text{is the number of instances in the left/right subset.}\n",
        "\\end{array}\n",
        "\\right.\n",
        "\\]$\n",
        "\n",
        "\n",
        "Once it has successfully split the data into two, it splits the subsets with the same logic. It stops when it reaches the `max_depth` hyperparameter, or it cannot find a split that will reduce the impurity. We have other hyperparameters to tweak.\n",
        "\n",
        "Note: CART is a greedy algorithm. The optimal soulution is known so we should look for a reasonably good solution. Also the optimal tree is an NP-complete problem which make it neccessary to look for a reasonably good solution not an optimal one."
      ],
      "metadata": {
        "id": "BER7RJmfenSr"
      }
    },
    {
      "cell_type": "code",
      "source": [
        ""
      ],
      "metadata": {
        "id": "EG4D9XNmefMg"
      },
      "execution_count": null,
      "outputs": []
    }
  ]
}